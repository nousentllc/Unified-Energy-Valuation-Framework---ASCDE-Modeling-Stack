{
 "cells": [
  {
   "cell_type": "code",
   "execution_count": null,
   "id": "imports",
   "metadata": {},
   "outputs": [],
   "source": [
    "# Survival Modeling for Interconnection Queue Analysis\n",
    "# Author: Justin Candler / Nous Enterprise\n",
    "# Description: Estimate project survival probabilities, compute entropy metrics, and visualize queue survival patterns across regions, vintages, and technologies.\n",
    "\n",
    "# --- Cell 1: Imports ---\n",
    "import pandas as pd\n",
    "import numpy as np\n",
    "import matplotlib.pyplot as plt\n",
    "import seaborn as sns\n",
    "from lifelines import KaplanMeierFitter\n",
    "from scipy.stats import entropy"
   ]
  },
  {
   "cell_type": "code",
   "execution_count": null,
   "id": "load-data",
   "metadata": {},
   "outputs": [],
   "source": [
    "# --- Cell 2: Load Data ---\n",
    "# Update this path to point to the appropriate queue data CSV\n",
    "df = pd.read_csv('../data/queues_2023_clean_data_r1.csv')\n",
    "\n",
    "# Expected columns: ['ProjectID', 'ISO', 'TechType', 'QueueDate', 'CODDate', 'Status']"
   ]
  },
  {
   "cell_type": "code",
   "execution_count": null,
   "id": "preprocessing",
   "metadata": {},
   "outputs": [],
   "source": [
    "# --- Cell 3: Preprocessing ---\n",
    "df['QueueDate'] = pd.to_datetime(df['QueueDate'])\n",
    "df['CODDate'] = pd.to_datetime(df['CODDate'])\n",
    "df['SurvivalTime'] = (df['CODDate'] - df['QueueDate']).dt.days\n",
    "df['Event'] = df['Status'].apply(lambda x: 1 if x == 'Operational' else 0)\n",
    "\n",
    "# Drop NaNs or invalid entries\n",
    "df = df.dropna(subset=['SurvivalTime', 'Event'])"
   ]
  },
  {
   "cell_type": "code",
   "execution_count": null,
   "id": "km-survival",
   "metadata": {},
   "outputs": [],
   "source": [
    "# --- Cell 4: Kaplan-Meier Survival Estimation ---\n",
    "kmf = KaplanMeierFitter()\n",
    "kmf.fit(df['SurvivalTime'], event_observed=df['Event'])\n",
    "\n",
    "# Plot\n",
    "plt.figure(figsize=(10,6))\n",
    "kmf.plot()\n",
    "plt.title('Kaplan-Meier Survival Curve (All Projects)')\n",
    "plt.xlabel('Days in Queue')\n",
    "plt.ylabel('Survival Probability')\n",
    "plt.grid(True)\n",
    "plt.show()"
   ]
  },
  {
   "cell_type": "code",
   "execution_count": null,
   "id": "survival-by-tech",
   "metadata": {},
   "outputs": [],
   "source": [
    "# --- Cell 5: Survival by Technology Type ---\n",
    "plt.figure(figsize=(12, 8))\n",
    "for tech in df['TechType'].unique():\n",
    "    subset = df[df['TechType'] == tech]\n",
    "    if len(subset) > 20:  # minimum threshold\n",
    "        kmf.fit(subset['SurvivalTime'], event_observed=subset['Event'], label=tech)\n",
    "        kmf.plot()\n",
    "\n",
    "plt.title('Survival Curves by Technology Type')\n",
    "plt.xlabel('Days in Queue')\n",
    "plt.ylabel('Probability of Survival')\n",
    "plt.grid(True)\n",
    "plt.legend()\n",
    "plt.show()"
   ]
  },
  {
   "cell_type": "code",
   "execution_count": null,
   "id": "entropy-estimation",
   "metadata": {},
   "outputs": [],
   "source": [
    "# --- Cell 6: Entropy Estimation by ISO and Vintage ---\n",
    "def compute_entropy(group):\n",
    "    counts = group['Event'].value_counts(normalize=True)\n",
    "    return entropy(counts, base=2)\n",
    "\n",
    "df['QueueYear'] = df['QueueDate'].dt.year\n",
    "entropy_df = df.groupby(['ISO', 'QueueYear']).apply(compute_entropy).reset_index()\n",
    "entropy_df.columns = ['ISO', 'QueueYear', 'SurvivalEntropy']\n",
    "\n",
    "# Plot\n",
    "plt.figure(figsize=(12, 6))\n",
    "sns.lineplot(data=entropy_df, x='QueueYear', y='SurvivalEntropy', hue='ISO', marker='o')\n",
    "plt.title('Queue Survival Entropy (bits) by ISO and Year')\n",
    "plt.ylabel('Entropy (bits)')\n",
    "plt.xlabel('Queue Year')\n",
    "plt.grid(True)\n",
    "plt.show()"
   ]
  },
  {
   "cell_type": "code",
   "execution_count": null,
   "id": "export-data",
   "metadata": {},
   "outputs": [],
   "source": [
    "# --- Cell 7: Export Processed Data ---\n",
    "entropy_df.to_csv('../outputs/survival_entropy_report.csv', index=False)\n",
    "print(\"Saved entropy metrics to outputs/survival_entropy_report.csv\")"
   ]
  }
 ],
 "metadata": {
  "kernelspec": {
   "display_name": "Python 3",
   "language": "python",
   "name": "python3"
  },
  "language_info": {
   "codemirror_mode": {
    "name": "ipython",
    "version": 3
   },
   "file_extension": ".py",
   "mimetype": "text/x-python",
   "name": "python",
   "nbconvert_exporter": "python",
   "pygments_lexer": "ipython3",
   "version": "3.8.8"
  }
 },
 "nbformat": 4,
 "nbformat_minor": 5
}
